FCEHwiK8ANBEX4gKMIPBFV1nt/MNkj6oaTj7j4p2zZa0m8kjZfULekBd/9T89oc3ObMmZOsV/te/2rLSe/bt69i7cUXX0yOXbFiRbJebR6/mkmTJlWsdXV1NXTbaEwtZ/6Nku49b9tKSW+4+02S3siuAxhEqobf3d+WdPK8zbMlbcoub5KUPrUBaDv1Pue/1t2PSlL285r8WgLQCk1/wc/MFptZ2czKvb29zT4cgBrVG/5jZtYpSdnP45V2dPcudy+5e6mjo6POwwHIW73h3y5pYXZ5oaRX8mkHQKtUDb+ZbZH035JuNrMeM/uxpKck3W1mf5B0d3YdwCBSdZ7f3edXKM3MuZewrrzyyobGX3XVVXWPrfY+gHnz5iXrQ4bwPrHBiv85ICjCDwRF+IGgCD8QFOEHgiL8QFB8dfdFYO3atRVre/bsSY596623kvVqX909a9asZB3tizM/EBThB4Ii/EBQhB8IivADQRF+ICjCDwTFPP9FIPX12uvXr0+OvfXWW5P1RYsWJet33nlnsl4qlSrWlixZkhxrZsk6GsOZHwiK8ANBEX4gKMIPBEX4gaAIPxAU4QeCYp7/IjdhwoRkfePGjcn6I488kqxv3ry57vqXX36ZHPvQQw8l652dnck60jjzA0ERfiAowg8ERfiBoAg/EBThB4Ii/EBQVef5zWyDpB9KOu7uk7JtayUtktSb7bbK3V9tVpNonrlz5ybrN954Y7K+fPnyZD31vf9PPPFEcuynn36arK9evTpZHzt2bLIeXS1n/o2S7h1g+8/dfXL2j+ADg0zV8Lv725JOtqAXAC3UyHP+pWa2z8w2mNmo3DoC0BL1hv8XkiZImizpqKSfVtrRzBabWdnMyr29vZV2A9BidYXf3Y+5+xl3PytpvaSpiX273L3k7qWOjo56+wSQs7rCb2b9P041V9L+fNoB0Cq1TPVtkTRD0hgz65G0RtIMM5ssySV1S3q0iT0CaAJz95YdrFQqeblcbtnx0HynTp1K1nfs2FGx9vDDDyfHVvvdnDlzZrK+c+fOZP1iVCqVVC6Xa1rwgHf4AUERfiAowg8ERfiBoAg/EBThB4Jiqg+FufTSS5P1r7/+OlkfNmxYsv7aa69VrM2YMSM5drBiqg9AVYQfCIrwA0ERfiAowg8ERfiBoAg/EBRLdCNp3759yfrWrVuT9d27d1esVZvHr2bixInJ+u23397Q7V/sOPMDQRF+ICjCDwRF+IGgCD8QFOEHgiL8QFDM81/kDh06lKw///zzyfrLL7+crH/22WcX3FOtLrkk/evZ2dmZrA8ZwrkthXsHCIrwA0ERfiAowg8ERfiBoAg/EBThB4KqOs9vZuMkbZb0XUlnJXW5+7NmNlrSbySNl9Qt6QF3/1PzWo2r2lz6Sy+9VLG2bt265Nju7u56WsrFbbfdlqyvXr06Wb///vvzbCecWs7830ha7u5/L+kfJC0xs4mSVkp6w91vkvRGdh3AIFE1/O5+1N3fyy5/IemgpLGSZkvalO22SdKcZjUJIH8X9JzfzMZLmiLpXUnXuvtRqe8PhKRr8m4OQPPUHH4z+46k30n6ibv/+QLGLTazspmVe3t76+kRQBPUFH4zG6a+4P/K3c990uOYmXVm9U5Jxwca6+5d7l5y91JHR0cePQPIQdXwm5lJ+qWkg+7+s36l7ZIWZpcXSnol//YANEstH+mdLmmBpA/MbG+2bZWkpyT91sx+LOmwpB81p8XB79ixY8n6gQMHkvWlS5cm6x9++OEF95SXadOmJeuPP/54xdrs2bOTY/lIbnNVDb+775JUab3vmfm2A6BV+NMKBEX4gaAIPxAU4QeCIvxAUIQfCIqv7q7RyZMnK9YeffTR5Ni9e/cm6x9//HFdPeVh+vTpyfry5cuT9XvuuSdZv/zyyy+4J7QGZ34gKMIPBEX4gaAIPxAU4QeCIvxAUIQfCCrMPP+7776brD/99NPJ+u7duyvWenp66uopL1dccUXF2rJly5Jjq3099ogRI+rqCe2PMz8QFOEHgiL8QFCEHwiK8ANBEX4gKMIPBBVmnn/btm0N1RsxceLEZP2+++5L1ocOHZqsr1ixomLt6quvTo5FXJz5gaAIPxAU4QeCIvxAUIQfCIrwA0ERfiAoc/f0DmbjJG2W9F1JZyV1ufuzZrZW0iJJvdmuq9z91dRtlUolL5fLDTcNYGClUknlctlq2beWN/l8I2m5u79nZiMl7TGznVnt5+7+b/U2CqA4VcPv7kclHc0uf2FmByWNbXZjAJrrgp7zm9l4SVMknftOrKVmts/MNpjZqApjFptZ2czKvb29A+0CoAA1h9/MviPpd5J+4u5/lvQLSRMkTVbfI4OfDjTO3bvcveTupY6OjhxaBpCHmsJvZsPUF/xfufvLkuTux9z9jLuflbRe0tTmtQkgb1XDb2Ym6ZeSDrr7z/pt7+y321xJ+/NvD0Cz1PJq/3RJCyR9YGbn1ppeJWm+mU2W5JK6JaXXqQbQVmp5tX+XpIHmDZNz+gDaG+/wA4Ii/EBQhB8IivADQRF+ICjCDwRF+IGgCD8QFOEHgiL8QFCEHwiK8ANBEX4gKMIPBFX1q7tzPZhZr6RP+20aI+lEyxq4MO3aW7v2JdFbvfLs7QZ3r+n78loa/m8d3Kzs7qXCGkho197atS+J3upVVG887AeCIvxAUEWHv6vg46e0a2/t2pdEb/UqpLdCn/MDKE7RZ34ABSkk/GZ2r5kdMrOPzGxlET1UYmbdZvaBme01s0KXFM6WQTtuZvv7bRttZjvN7A/ZzwGXSSuot7Vm9n/ZfbfXzP6poN7GmdmbZnbQzA6Y2T9n2wu97xJ9FXK/tfxhv5kNlfS/ku6W1CNpt6T57v4/LW2kAjPrllRy98LnhM3sdkl/kbTZ3Sdl256WdNLdn8r+cI5y939pk97WSvpL0Ss3ZwvKdPZfWVrSHEkPq8D7LtHXAyrgfivizD9V0kfu/om7n5b0a0mzC+ij7bn725JOnrd5tqRN2eVN6vvlabkKvbUFdz/q7u9ll7+QdG5l6ULvu0RfhSgi/GMl/bHf9R6115LfLun3ZrbHzBYX3cwArs2WTT+3fPo1BfdzvqorN7fSeStLt819V8+K13krIvwDrf7TTlMO0939Vkk/kLQke3iL2tS0cnOrDLCydFuod8XrvBUR/h5J4/pd/56kIwX0MSB3P5L9PC5pm9pv9eFj5xZJzX4eL7ifv2qnlZsHWllabXDftdOK10WEf7ekm8zs+2Y2XNI8SdsL6ONbzGxE9kKMzGyEpFlqv9WHt0tamF1eKOmVAnv5G+2ycnOllaVV8H3XbiteF/Imn2wq498lDZW0wd3/teVNDMDM/k59Z3upbxHTl4rszcy2SJqhvk99HZO0RtJ/SPqtpOslHZb0I3dv+QtvFXqbob6Hrn9dufncc+wW9/aPkv5L0geSzmabV6nv+XVh912ir/kq4H7jHX5AULzDDwiK8ANBEX4gKMIPBEX4gaAIPxAU4QeCIvxAUP8Pt/ALPExulGgAAAAASUVORK5CYII=\n",
      "text/plain": [
       "<Figure size 432x288 with 1 Axes>"
      ]
     },
     "metadata": {
      "needs_background": "light"
     },
     "output_type": "display_data"
    },
    {
     "data": {
      "image/png": "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\n",
      "text/plain": [
       "<Figure size 432x288 with 1 Axes>"
      ]
     },
     "metadata": {
      "needs_background": "light"
     },
     "output_type": "display_data"
    }
   ],
   "source": [
    "from matplotlib import pyplot as plt\n",
    "#setting matplotlib mode to inline to ensure the images are within the notebook\n",
    "%matplotlib inline\n",
    "\n",
    "plt.imshow(x_train[0],cmap='binary')#colormap to binary because the imgs are b&w\n",
    "plt.show()\n",
    "plt.imshow(x_train[7],cmap='binary')\n",
    "plt.show()"
   ]
  },
  {
   "cell_type": "markdown",
   "metadata": {},
   "source": [
    "### Display Labels"
   ]
  },
  {
   "cell_type": "code",
   "execution_count": 32,
   "metadata": {},
   "outputs": [
    {
     "data": {
      "text/plain": [
       "(5, 3)"
      ]
     },
     "execution_count": 32,
     "metadata": {},
     "output_type": "execute_result"
    }
   ],
   "source": [
    "y_train[0], y_train[7]"
   ]
  },
  {
   "cell_type": "code",
   "execution_count": 33,
   "metadata": {},
   "outputs": [
    {
     "name": "stdout",
     "output_type": "stream",
     "text": [
      "{0, 1, 2, 3, 4, 5, 6, 7, 8, 9}\n"
     ]
    }
   ],
   "source": [
    "print(set(y_train)) #to view the unique values (classes in our case)"
   ]
  },
  {
   "cell_type": "markdown",
   "metadata": {},
   "source": [
    "# Task 3: One Hot Encoding\n",
    "After this encoding, every label will be converted to a list with 10 elements and the element at index to the corresponding class will be set to 1, rest will be set to 0:\n",
    "\n",
    "| original label | one-hot encoded label |\n",
    "|------|------|\n",
    "| 5 | [0, 0, 0, 0, 0, 1, 0, 0, 0, 0] |\n",
    "| 7 | [0, 0, 0, 0, 0, 0, 0, 1, 0, 0] |\n",
    "| 1 | [0, 1, 0, 0, 0, 0, 0, 0, 0, 0] |\n",
    "\n",
    "### Encoding Labels"
   ]
  },
  {
   "cell_type": "code",
   "execution_count": 34,
   "metadata": {},
   "outputs": [],
   "source": [
    "#In one hot encoding, all classes except the element(set to 1) will be set to 0 \n",
    "#Easy to achieve this in Tensorflow due to Keras\n",
    "from tensorflow.keras.utils import to_categorical\n",
    "#Encoding for both train & test set\n",
    "y_train_encoded = to_categorical(y_train)\n",
    "y_test_encoded = to_categorical(y_test)\n"
   ]
  },
  {
   "cell_type": "markdown",
   "metadata": {},
   "source": [
    "### Validated Shapes"
   ]
  },
  {
   "cell_type": "code",
   "execution_count": 35,
   "metadata": {},
   "outputs": [
    {
     "data": {
      "text/plain": [
       "((60000, 10), (10000, 10))"
      ]
     },
     "execution_count": 35,
     "metadata": {},
     "output_type": "execute_result"
    }
   ],
   "source": [
    "y_train_encoded.shape, y_test_encoded.shape #Each example is a 10D vector"
   ]
  },
  {
   "cell_type": "markdown",
   "metadata": {},
   "source": [
    "### Display Encoded Labels"
   ]
  },
  {
   "cell_type": "code",
   "execution_count": 36,
   "metadata": {},
   "outputs": [
    {
     "name": "stdout",
     "output_type": "stream",
     "text": [
      "Encoded vector for the 8th data point: [0. 0. 0. 1. 0. 0. 0. 0. 0. 0.]\n",
      "Actual data: 3\n"
     ]
    }
   ],
   "source": [
    "print(\"Encoded vector for the 8th data point:\",y_train_encoded[7])\n",
    "print(\"Actual data:\",y_train[7])"
   ]
  },
  {
   "cell_type": "markdown",
   "metadata": {},
   "source": [
    "# Task 4: Neural Networks\n",
    "\n",
    "### Linear Equations\n",
    "\n",
    "![Single Neuron](images/1_2.png)\n",
    "\n",
    "The above graph simply represents the equation:\n",
    "\n",
    "\\begin{equation}\n",
    "y = w1 * x1 + w2 * x2 + w3 * x3 + b\n",
    "\\end{equation}\n",
    "\n",
    "Where the `w1, w2, w3` are called the weights and `b` is an intercept term called bias. The equation can also be *vectorised* like this:\n",
    "\n",
    "\\begin{equation}\n",
    "y = W . X + b\n",
    "\\end{equation}\n",
    "\n",
    "Where `X = [x1, x2, x3]` and `W = [w1, w2, w3].T`. The .T means *transpose*. This is because we want the dot product to give us the result we want i.e. `w1 * x1 + w2 * x2 + w3 * x3`. This gives us the vectorised version of our linear equation.\n",
    "\n",
    "A simple, linear approach to solving hand-written image classification problem - could it work?\n",
    "\n",
    "![Single Neuron with 784 features](images/1_3.png)\n",
    "\n",
    "### Neural Networks\n",
    "\n",
    "![Neural Network with 2 hidden layers](images/1_4.png)\n",
    "\n",
    "This model is much more likely to solve the problem as it can learn more complex function mapping for the inputs and outputs in our dataset."
   ]
  },
  {
   "cell_type": "markdown",
   "metadata": {},
   "source": [
    "# Task 5: Preprocessing the Examples\n",
    "\n",
    "### Unrolling N-dimensional Arrays to Vectors"
   ]
  },
  {
   "cell_type": "code",
   "execution_count": 37,
   "metadata": {},
   "outputs": [
    {
     "name": "stdout",
     "output_type": "stream",
     "text": [
      "(60000, 784)\n",
      "(10000, 784)\n"
     ]
    }
   ],
   "source": [
    "#The pics are 28x28--> unroll to 728 pixels\n",
    "import numpy as np\n",
    "\n",
    "x_train_reshape = np.reshape(x_train,(60000,784))\n",
    "x_test_reshape = np.reshape(x_test,(10000,784))\n",
    "print(x_train_reshape.shape)\n",
    "print(x_test_reshape.shape)"
   ]
  },
  {
   "cell_type": "markdown",
   "metadata": {},
   "source": [
    "### Display Pixel Values"
   ]
  },
  {
   "cell_type": "code",
   "execution_count": 38,
   "metadata": {},
   "outputs": [
    {
     "name": "stdout",
     "output_type": "stream",
     "text": [
      "{0, 1, 2, 3, 9, 11, 14, 16, 18, 23, 24, 25, 26, 27, 30, 35, 36, 39, 43, 45, 46, 49, 55, 56, 64, 66, 70, 78, 80, 81, 82, 90, 93, 94, 107, 108, 114, 119, 126, 127, 130, 132, 133, 135, 136, 139, 148, 150, 154, 156, 160, 166, 170, 171, 172, 175, 182, 183, 186, 187, 190, 195, 198, 201, 205, 207, 212, 213, 219, 221, 225, 226, 229, 238, 240, 241, 242, 244, 247, 249, 250, 251, 252, 253, 255}\n"
     ]
    }
   ],
   "source": [
    "print(set(x_train_reshape[0]))"
   ]
  },
  {
   "cell_type": "markdown",
   "metadata": {},
   "source": [
    "### Data Normalization"
   ]
  },
  {
   "cell_type": "code",
   "execution_count": 39,
   "metadata": {},
   "outputs": [],
   "source": [
    "x_mean = np.mean(x_train_reshape)\n",
    "x_std = np.std(x_train_reshape)\n",
    "\n",
    "eps = 1e-10 #In certain cases, small std will lead to unstability in computations. Hence, eps+std\n",
    "x_train_norm = (x_train_reshape - x_mean)/(x_std + eps)\n",
    "x_test_norm = (x_test_reshape - x_mean)/(x_std + eps)"
   ]
  },
  {
   "cell_type": "markdown",
   "metadata": {},
   "source": [
    "### Display Normalized Pixel Values"
   ]
  },
  {
   "cell_type": "code",
   "execution_count": 40,
   "metadata": {},
   "outputs": [
    {
     "name": "stdout",
     "output_type": "stream",
     "text": [
      "{-0.38589016215482896, 1.306921966983251, 1.17964285952926, 1.803310486053816, 1.6887592893452241, 2.8215433456857437, 2.719720059722551, 1.1923707702746593, 1.7396709323268205, 2.057868700961798, 2.3633385588513764, 2.096052433197995, 1.7651267538176187, 2.7960875241949457, 2.7451758812133495, 2.45243393406917, 0.02140298169794222, -0.22042732246464067, 1.2305545025108566, 0.2759611966059242, 2.210603629906587, 2.6560805059955555, 2.6051688630139593, -0.4240738943910262, 0.4668798577869107, 0.1486820891519332, 0.3905123933145161, 1.0905474843114664, -0.09314821501064967, 1.4851127174188385, 2.7579037919587486, 1.5360243604004349, 0.07231462467953861, -0.13133194724684696, 1.294194056237852, 0.03413089244334132, 1.3451056992194483, 2.274243183633583, -0.24588314395543887, 0.772349715676489, 0.75962180493109, 0.7214380726948927, 0.1995937321335296, -0.41134598364562713, 0.5687031437501034, 0.5941589652409017, 0.9378125553666773, 0.9505404661120763, 0.6068868759863008, 0.4159682148053143, -0.042236572029053274, 2.7706317027041476, 2.1342361654341926, 0.12322626766113501, -0.08042030426525057, 0.16140999989733232, 1.8924058612716097, 1.2560103240016547, 2.185147808415789, 0.6196147867316999, 1.943317504253206, -0.11860403650144787, -0.30952269768243434, 1.9942291472348024, -0.2840668761916362, 2.6306246845047574, 2.286971094378982, -0.19497150097384247, -0.39861807290022805, 0.2886891073513233, 1.7523988430722195, 2.3887943803421745, 2.681536327486354, 1.4596568959280403, 2.439706023323771, 2.7833596134495466, 2.490617666305367, -0.10587612575604877, 1.5614801818912332, 1.9051337720170087, 1.6123918248728295, 1.268738234747054, 1.9560454149986053, 2.6433525952501564, 1.026907930584471}\n"
     ]
    }
   ],
   "source": [
    "print(set(x_train_norm[0]))"
   ]
  },
  {
   "cell_type": "markdown",
   "metadata": {},
   "source": [
    "# Task 6: Creating a Model\n",
    "### Creating the Model"
   ]
  },
  {
   "cell_type": "code",
   "execution_count": 41,
   "metadata": {},
   "outputs": [],
   "source": [
    "#Will use 2 hidden layer, 128 nodes each\n",
    "#Fully connected layers - Dense\n",
    "from tensorflow.keras.models import Sequential\n",
    "from tensorflow.keras.layers import Dense\n",
    "#Input need not be defined seperately since Sequential is being used\n",
    "#relu-->most common, linear fn for all +ve values and 0 for all -ve values\n",
    "#softmax-->in O/P layer, gives probability scores, class with highest prob. is our prediction\n",
    "model = Sequential([Dense(128, activation='relu', input_shape = (784,)),\n",
    "                    Dense(128, activation='relu'),\n",
    "                   Dense(10, activation='softmax')\n",
    "                   ])"
   ]
  },
  {
   "cell_type": "markdown",
   "metadata": {},
   "source": [
    "### Activation Functions\n",
    "\n",
    "The first step in the node is the linear sum of the inputs:\n",
    "\\begin{equation}\n",
    "Z = W . X + b\n",
    "\\end{equation}\n",
    "\n",
    "The second step in the node is the activation function output:\n",
    "\n",
    "\\begin{equation}\n",
    "A = f(Z)\n",
    "\\end{equation}\n",
    "\n",
    "Graphical representation of a node where the two operations are performed:\n",
    "\n",
    "![ReLU](images/1_5.png)\n",
    "\n",
    "### Compiling the Model"
   ]
  },
  {
   "cell_type": "code",
   "execution_count": 42,
   "metadata": {},
   "outputs": [
    {
     "name": "stdout",
     "output_type": "stream",
     "text": [
      "_________________________________________________________________\n",
      "Layer (type)                 Output Shape              Param #   \n",
      "=================================================================\n",
      "dense_9 (Dense)              (None, 128)               100480    \n",
      "_________________________________________________________________\n",
      "dense_10 (Dense)             (None, 128)               16512     \n",
      "_________________________________________________________________\n",
      "dense_11 (Dense)             (None, 10)                1290      \n",
      "=================================================================\n",
      "Total params: 118,282\n",
      "Trainable params: 118,282\n",
      "Non-trainable params: 0\n",
      "_________________________________________________________________\n"
     ]
    }
   ],
   "source": [
    "model.compile(\n",
    "    optimizer='sgd',\n",
    "    loss='categorical_crossentropy',#prediction-actual-->need to minimize\n",
    "    metrics = ['accuracy']\n",
    ")\n",
    "model.summary()"
   ]
  },
  {
   "cell_type": "markdown",
   "metadata": {},
   "source": [
    "# Task 7: Training the Model\n",
    "\n",
    "### Training the Model"
   ]
  },
  {
   "cell_type": "code",
   "execution_count": 43,
   "metadata": {},
   "outputs": [
    {
     "name": "stdout",
     "output_type": "stream",
     "text": [
      "Epoch 1/3\n",
      "60000/60000 [==============================] - 6s 107us/sample - loss: 0.3701 - acc: 0.8929\n",
      "Epoch 2/3\n",
      "60000/60000 [==============================] - 6s 101us/sample - loss: 0.1860 - acc: 0.9455\n",
      "Epoch 3/3\n",
      "60000/60000 [==============================] - 6s 99us/sample - loss: 0.1415 - acc: 0.9586\n"
     ]
    },
    {
     "data": {
      "text/plain": [
       "<tensorflow.python.keras.callbacks.History at 0x7fc7720baac8>"
      ]
     },
     "execution_count": 43,
     "metadata": {},
     "output_type": "execute_result"
    }
   ],
   "source": [
    "#3 epochs\n",
    "model.fit(x_train_norm, y_train_encoded, epochs=3)\n",
    "#Observe that accuracy is improved gradually"
   ]
  },
  {
   "cell_type": "markdown",
   "metadata": {},
   "source": [
    "### Evaluating the Model"
   ]
  },
  {
   "cell_type": "code",
   "execution_count": 44,
   "metadata": {},
   "outputs": [
    {
     "name": "stdout",
     "output_type": "stream",
     "text": [
      "10000/10000 [==============================] - 1s 51us/sample - loss: 0.1372 - acc: 0.9579\n",
      "Test set loss: 13.721718536242843\n",
      "Test set accuracy: 95.78999876976013\n"
     ]
    }
   ],
   "source": [
    "#Forward pass is performed\n",
    "loss, accuracy = model.evaluate(x_test_norm,y_test_encoded)\n",
    "print(\"Test set loss:\",loss*100)\n",
    "print(\"Test set accuracy:\",accuracy*100)"
   ]
  },
  {
   "cell_type": "markdown",
   "metadata": {},
   "source": [
    "# Task 8: Predictions\n",
    "\n",
    "### Predictions on Test Set"
   ]
  },
  {
   "cell_type": "code",
   "execution_count": 45,
   "metadata": {},
   "outputs": [
    {
     "name": "stdout",
     "output_type": "stream",
     "text": [
      "Shape of predictions: (10000, 10)\n"
     ]
    }
   ],
   "source": [
    "predictions = model.predict(x_test_norm)\n",
    "print(\"Shape of predictions:\",predictions.shape)"
   ]
  },
  {
   "cell_type": "markdown",
   "metadata": {},
   "source": [
    "### Plotting the Results"
   ]
  },
  {
   "cell_type": "code",
   "execution_count": 59,
   "metadata": {},
   "outputs": [
    {
     "data": {
      "image/png": "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\n",
      "text/plain": [
       "<Figure size 864x864 with 25 Axes>"
      ]
     },
     "metadata": {},
     "output_type": "display_data"
    }
   ],
   "source": [
    "plt.figure(figsize=(12,12))\n",
    "start = 0\n",
    "for i in range(25):\n",
    "    plt.subplot(5,5,i+1)\n",
    "    plt.grid(True)\n",
    "    plt.xticks([])\n",
    "    plt.yticks([])\n",
    "    pred = np.argmax(predictions[start+i])\n",
    "    actual = y_test[start+i]\n",
    "    c = 'g'\n",
    "    if pred != actual:\n",
    "        c = 'r'\n",
    "    plt.xlabel('i={},pred={},act={}'.format(start+i,pred,actual),color=c)\n",
    "    plt.imshow(x_test[start+i],cmap='binary')\n",
    "plt.show()"
   ]
  },
  {
   "cell_type": "code",
   "execution_count": 62,
   "metadata": {},
   "outputs": [
    {
     "data": {
      "image/png": "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\n",
      "text/plain": [
       "<Figure size 432x288 with 1 Axes>"
      ]
     },
     "metadata": {
      "needs_background": "light"
     },
     "output_type": "display_data"
    }
   ],
   "source": [
    "#Plotting the erroneous output at index 8\n",
    "plt.plot(predictions[8])\n",
    "plt.show()"
   ]
  },
  {
   "cell_type": "code",
   "execution_count": 63,
   "metadata": {},
   "outputs": [
    {
     "name": "stdout",
     "output_type": "stream",
     "text": [
      "6 is being predicted for the number 5\n"
     ]
    }
   ],
   "source": [
    "print(\"6 is being predicted for the number 5\")"
   ]
  },
  {
   "cell_type": "code",
   "execution_count": null,
   "metadata": {},
   "outputs": [],
   "source": []
  }
 ],
 "metadata": {
  "kernelspec": {
   "display_name": "Python 3",
   "language": "python",
   "name": "python3"
  },
  "language_info": {
   "codemirror_mode": {
    "name": "ipython",
    "version": 3
   },
   "file_extension": ".py",
   "mimetype": "text/x-python",
   "name": "python",
   "nbconvert_exporter": "python",
   "pygments_lexer": "ipython3",
   "version": "3.7.3"
  }
 },
 "nbformat": 4,
 "nbformat_minor": 2
}
